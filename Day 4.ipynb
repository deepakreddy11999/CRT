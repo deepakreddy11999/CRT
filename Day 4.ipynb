{
 "cells": [
  {
   "cell_type": "code",
   "execution_count": 3,
   "metadata": {},
   "outputs": [
    {
     "name": "stdout",
     "output_type": "stream",
     "text": [
      "PYTHON\n",
      "python\n"
     ]
    }
   ],
   "source": [
    "s=\"Python\"\n",
    "print(s.upper())#converts the string to upper case\n",
    "print(s.lower())#converts the string to lower case"
   ]
  },
  {
   "cell_type": "markdown",
   "metadata": {},
   "source": [
    "# Boolean menthods(strings)"
   ]
  },
  {
   "cell_type": "code",
   "execution_count": 6,
   "metadata": {},
   "outputs": [
    {
     "name": "stdout",
     "output_type": "stream",
     "text": [
      "Python\n",
      "False\n",
      "False\n"
     ]
    }
   ],
   "source": [
    "print(s)\n",
    "print(s.islower())#checks whether the string is in lower case or upper case\n",
    "print(s.isupper())#checks whether the string is in upper case or upper case"
   ]
  },
  {
   "cell_type": "code",
   "execution_count": 9,
   "metadata": {},
   "outputs": [
    {
     "name": "stdout",
     "output_type": "stream",
     "text": [
      "True\n",
      "False\n"
     ]
    }
   ],
   "source": [
    "#check whether the given string is title or not\n",
    "s1=\"Python Programming\"\n",
    "s2=\"python programming\"\n",
    "print(s1.istitle())#title contsind both starting letter as capital\n",
    "print(s2.istitle())"
   ]
  },
  {
   "cell_type": "code",
   "execution_count": 10,
   "metadata": {},
   "outputs": [
    {
     "name": "stdout",
     "output_type": "stream",
     "text": [
      "False\n",
      "True\n"
     ]
    }
   ],
   "source": [
    "#the given string is numeric or not\n",
    "s3=\"Py123\"\n",
    "s4=\"1234\"\n",
    "print(s3.isnumeric())\n",
    "print(s4.isnumeric())"
   ]
  },
  {
   "cell_type": "code",
   "execution_count": 11,
   "metadata": {},
   "outputs": [
    {
     "name": "stdout",
     "output_type": "stream",
     "text": [
      "True\n",
      "False\n"
     ]
    }
   ],
   "source": [
    "#checking whether the given string contains only alphabets or not\n",
    "s=\"Python\"\n",
    "s1=\"Py123\"\n",
    "print(s.isalpha())\n",
    "print(s1.isalpha())"
   ]
  },
  {
   "cell_type": "code",
   "execution_count": 13,
   "metadata": {},
   "outputs": [
    {
     "name": "stdout",
     "output_type": "stream",
     "text": [
      "True\n",
      "False\n"
     ]
    }
   ],
   "source": [
    "#checking hether there is any space betwee strings or not\n",
    "s=\" \"\n",
    "s1=\"Py th on\"\n",
    "print(s.isspace())\n",
    "print(s1.isspace())"
   ]
  },
  {
   "cell_type": "code",
   "execution_count": 2,
   "metadata": {},
   "outputs": [
    {
     "data": {
      "text/plain": [
       "[1, 8, 9, 7, 6]"
      ]
     },
     "execution_count": 2,
     "metadata": {},
     "output_type": "execute_result"
    }
   ],
   "source": [
    "#Function to convert gidits in a number list\n",
    "#Input:18976\n",
    "#Output:[1,8,9,7,6]\n",
    "def numberlistconversion(n):\n",
    "    Li=[]\n",
    "    while n!=0:\n",
    "        r=n%10\n",
    "        Li.append(r)\n",
    "        n=n//10\n",
    "    Li.reverse()\n",
    "    return Li\n",
    "numberlistconversion(18976)"
   ]
  },
  {
   "cell_type": "code",
   "execution_count": 10,
   "metadata": {},
   "outputs": [
    {
     "name": "stdout",
     "output_type": "stream",
     "text": [
      "Factors are\n",
      "1 2 3 4 6 12 "
     ]
    }
   ],
   "source": [
    "#print the factors of given number\n",
    "def printfactors(n):\n",
    "   print(\"Factors are\")\n",
    "   for i in range(1,n+1):\n",
    "       if n%i==0:\n",
    "           print(i, end=\" \")\n",
    "num = 12\n",
    "printfactors(num)"
   ]
  },
  {
   "cell_type": "code",
   "execution_count": 26,
   "metadata": {},
   "outputs": [
    {
     "name": "stdout",
     "output_type": "stream",
     "text": [
      "the numbers are \n",
      "500 502 504 506 508 510 512 514 516 518 520 "
     ]
    }
   ],
   "source": [
    "#print the even numbers from a to b\n",
    "a=500\n",
    "b=520\n",
    "def printfactors(a,b):\n",
    "   print(\"the numbers are \")\n",
    "   for i in range(a,b+1,2):\n",
    "        print(i, end=\" \")\n",
    "printfactors(a,b)"
   ]
  },
  {
   "cell_type": "code",
   "execution_count": 32,
   "metadata": {},
   "outputs": [
    {
     "data": {
      "text/plain": [
       "8"
      ]
     },
     "execution_count": 32,
     "metadata": {},
     "output_type": "execute_result"
    }
   ],
   "source": [
    "#print the maximum number of the digit\n",
    "a=13478\n",
    "int(max(str(a)))"
   ]
  },
  {
   "cell_type": "code",
   "execution_count": 33,
   "metadata": {},
   "outputs": [
    {
     "data": {
      "text/plain": [
       "['p', 'y', 't', 'h', 'o', 'n']"
      ]
     },
     "execution_count": 33,
     "metadata": {},
     "output_type": "execute_result"
    }
   ],
   "source": [
    "s=\"python\"\n",
    "list(s)"
   ]
  },
  {
   "cell_type": "code",
   "execution_count": 43,
   "metadata": {},
   "outputs": [
    {
     "data": {
      "text/plain": [
       "120"
      ]
     },
     "execution_count": 43,
     "metadata": {},
     "output_type": "execute_result"
    }
   ],
   "source": [
    "#strong number\n",
    "#145:1!+4!+5!=145\n",
    "def factorial(n):\n",
    "    fact=1\n",
    "    i=1\n",
    "    while i<=n:\n",
    "        fact=fact*i\n",
    "        i=i+1\n",
    "    return fact\n",
    "factorial(5)"
   ]
  },
  {
   "cell_type": "code",
   "execution_count": null,
   "metadata": {},
   "outputs": [],
   "source": []
  },
  {
   "cell_type": "code",
   "execution_count": null,
   "metadata": {},
   "outputs": [],
   "source": []
  }
 ],
 "metadata": {
  "kernelspec": {
   "display_name": "Python 3",
   "language": "python",
   "name": "python3"
  },
  "language_info": {
   "codemirror_mode": {
    "name": "ipython",
    "version": 3
   },
   "file_extension": ".py",
   "mimetype": "text/x-python",
   "name": "python",
   "nbconvert_exporter": "python",
   "pygments_lexer": "ipython3",
   "version": "3.7.4"
  }
 },
 "nbformat": 4,
 "nbformat_minor": 2
}
